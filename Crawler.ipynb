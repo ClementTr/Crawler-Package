{
 "cells": [
  {
   "cell_type": "markdown",
   "metadata": {
    "deletable": true,
    "editable": true
   },
   "source": [
    "Arsenal Crawler"
   ]
  },
  {
   "cell_type": "code",
   "execution_count": 1,
   "metadata": {
    "collapsed": false,
    "deletable": true,
    "editable": true
   },
   "outputs": [
    {
     "name": "stdout",
     "output_type": "stream",
     "text": [
      "('dataframe', (8, 2), ['price', 'titles'])\n",
      "mon_csv_arsenal.csv saved in data repository!\n"
     ]
    }
   ],
   "source": [
    "from pprint import pprint\n",
    "import sys\n",
    "from urllib.request import urlopen\n",
    "import lxml.html\n",
    "import pandas as pd\n",
    "\n",
    "URL = \"https://arsenaldirect.arsenal.com/Kit/Free-Printing-/c/freeprinting\"\n",
    "\n",
    "page = urlopen(URL).read() #Get the raw HTML data\n",
    "html = lxml.html.fromstring(page) #Load an xml parser\n",
    "\n",
    "titles = html.xpath(\"//div[@class='names']\")\n",
    "prices = html.xpath(\"//div[@class='price']\")\n",
    "    \n",
    "title_list = [tt.text_content() for tt in titles]\n",
    "prices = [px.text_content().replace(',','.').replace('£', '').strip() for px in prices]\n",
    "price_list = [float(px.rsplit(' ',1)[0].replace(' ', '')) for px in prices]\n",
    "\n",
    "results = {'titles': title_list, 'price':  price_list}\n",
    "df = pd.DataFrame(results)\n",
    "\n",
    "pprint(('dataframe', df.shape, list(df.columns)))\n",
    "print(\"mon_csv_arsenal.csv saved in data repository!\")"
   ]
  },
  {
   "cell_type": "code",
   "execution_count": 2,
   "metadata": {
    "collapsed": false,
    "deletable": true,
    "editable": true
   },
   "outputs": [
    {
     "data": {
      "text/html": [
       "<div>\n",
       "<table border=\"1\" class=\"dataframe\">\n",
       "  <thead>\n",
       "    <tr style=\"text-align: right;\">\n",
       "      <th></th>\n",
       "      <th>price</th>\n",
       "      <th>titles</th>\n",
       "    </tr>\n",
       "  </thead>\n",
       "  <tbody>\n",
       "    <tr>\n",
       "      <th>0</th>\n",
       "      <td>55.0</td>\n",
       "      <td>Arsenal Adult 16/17 Home Shirt</td>\n",
       "    </tr>\n",
       "    <tr>\n",
       "      <th>1</th>\n",
       "      <td>60.0</td>\n",
       "      <td>Arsenal Adult 16/17 Long Sleeve Home Shirt</td>\n",
       "    </tr>\n",
       "    <tr>\n",
       "      <th>2</th>\n",
       "      <td>55.0</td>\n",
       "      <td>Arsenal Adult 16/17 Away Shirt</td>\n",
       "    </tr>\n",
       "    <tr>\n",
       "      <th>3</th>\n",
       "      <td>100.0</td>\n",
       "      <td>Arsenal Authentic 16/17 Home Shirt</td>\n",
       "    </tr>\n",
       "    <tr>\n",
       "      <th>4</th>\n",
       "      <td>55.0</td>\n",
       "      <td>Arsenal Ladies 16/17 Home Shirt</td>\n",
       "    </tr>\n",
       "    <tr>\n",
       "      <th>5</th>\n",
       "      <td>55.0</td>\n",
       "      <td>Arsenal Ladies 16/17 Away Shirt</td>\n",
       "    </tr>\n",
       "    <tr>\n",
       "      <th>6</th>\n",
       "      <td>60.0</td>\n",
       "      <td>Arsenal Adult 16/17 Home Long Sleeve Goalkeepe...</td>\n",
       "    </tr>\n",
       "    <tr>\n",
       "      <th>7</th>\n",
       "      <td>60.0</td>\n",
       "      <td>Arsenal Adult 16/17 Away Goalkeeper Shirt</td>\n",
       "    </tr>\n",
       "  </tbody>\n",
       "</table>\n",
       "</div>"
      ],
      "text/plain": [
       "   price                                             titles\n",
       "0   55.0                     Arsenal Adult 16/17 Home Shirt\n",
       "1   60.0         Arsenal Adult 16/17 Long Sleeve Home Shirt\n",
       "2   55.0                     Arsenal Adult 16/17 Away Shirt\n",
       "3  100.0                 Arsenal Authentic 16/17 Home Shirt\n",
       "4   55.0                    Arsenal Ladies 16/17 Home Shirt\n",
       "5   55.0                    Arsenal Ladies 16/17 Away Shirt\n",
       "6   60.0  Arsenal Adult 16/17 Home Long Sleeve Goalkeepe...\n",
       "7   60.0          Arsenal Adult 16/17 Away Goalkeeper Shirt"
      ]
     },
     "execution_count": 2,
     "metadata": {},
     "output_type": "execute_result"
    }
   ],
   "source": [
    "df"
   ]
  },
  {
   "cell_type": "markdown",
   "metadata": {
    "deletable": true,
    "editable": true
   },
   "source": [
    "La Redoute Crawler"
   ]
  },
  {
   "cell_type": "code",
   "execution_count": null,
   "metadata": {
    "collapsed": false,
    "deletable": true,
    "editable": true
   },
   "outputs": [],
   "source": [
    "from pprint import pprint\n",
    "import sys\n",
    "from urllib.request import urlopen\n",
    "import lxml.html\n",
    "import pandas as pd\n",
    "\n",
    "URL = \"http://www.laredoute.fr/pplp/100/157878/cat-218.aspx\"\n",
    "\n",
    "page = urlopen(URL).read() #Get the raw HTML data\n",
    "html = lxml.html.fromstring(page) #Load an xml parser\n",
    "\n",
    "titles = html.xpath(\"//div[@class='details']/div[@class='title']\")\n",
    "prices = html.xpath(\"//div[@class='price']/strong\")\n",
    "    \n",
    "title_list = [tt.text_content() for tt in titles]\n",
    "prices = [px.text_content().replace(',','.').replace('€', '').strip() for px in prices]\n",
    "price_list = [float(px.rsplit(' ',1)[0].replace(' ', '')) for px in prices]\n",
    "\n",
    "results = {'titles': title_list, 'price':  price_list}\n",
    "df = pd.DataFrame(results)\n",
    "\n",
    "pprint(('dataframe', df.shape, list(df.columns)))\n",
    "#df.to_csv('data/mon_csv_lingerie.csv', encoding=\"utf-8\")\n",
    "#df.to_excel('mon_csv.xlsl', encoding=\"utf-8\")\n",
    "print(\"mon_csv_lingerie.csv saved in data repository!\")"
   ]
  },
  {
   "cell_type": "code",
   "execution_count": null,
   "metadata": {
    "collapsed": false,
    "deletable": true,
    "editable": true
   },
   "outputs": [],
   "source": [
    "df.head(5)"
   ]
  }
 ],
 "metadata": {
  "kernelspec": {
   "display_name": "Python3 Crawler",
   "language": "python",
   "name": "env3crawler"
  },
  "language_info": {
   "codemirror_mode": {
    "name": "ipython",
    "version": 3
   },
   "file_extension": ".py",
   "mimetype": "text/x-python",
   "name": "python",
   "nbconvert_exporter": "python",
   "pygments_lexer": "ipython3",
   "version": "3.5.2"
  }
 },
 "nbformat": 4,
 "nbformat_minor": 2
}

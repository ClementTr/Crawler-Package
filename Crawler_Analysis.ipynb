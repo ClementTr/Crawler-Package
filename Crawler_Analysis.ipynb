{
 "cells": [
  {
   "cell_type": "code",
   "execution_count": 1,
   "metadata": {
    "collapsed": false,
    "deletable": true,
    "editable": true
   },
   "outputs": [
    {
     "data": {
      "text/html": [
       "<div>\n",
       "<table border=\"1\" class=\"dataframe\">\n",
       "  <thead>\n",
       "    <tr style=\"text-align: right;\">\n",
       "      <th></th>\n",
       "      <th>Unnamed: 0</th>\n",
       "      <th>price</th>\n",
       "      <th>titles</th>\n",
       "    </tr>\n",
       "  </thead>\n",
       "  <tbody>\n",
       "    <tr>\n",
       "      <th>0</th>\n",
       "      <td>0</td>\n",
       "      <td>25.99</td>\n",
       "      <td>Soutien-gorge emboîtant en dentelle</td>\n",
       "    </tr>\n",
       "    <tr>\n",
       "      <th>1</th>\n",
       "      <td>1</td>\n",
       "      <td>27.99</td>\n",
       "      <td>Soutien-gorge corbeille en tulle brodé</td>\n",
       "    </tr>\n",
       "    <tr>\n",
       "      <th>2</th>\n",
       "      <td>2</td>\n",
       "      <td>11.99</td>\n",
       "      <td>Soutien-gorge bustier sans armatures</td>\n",
       "    </tr>\n",
       "    <tr>\n",
       "      <th>3</th>\n",
       "      <td>3</td>\n",
       "      <td>11.99</td>\n",
       "      <td>Shorty taille haute en dentelle</td>\n",
       "    </tr>\n",
       "    <tr>\n",
       "      <th>4</th>\n",
       "      <td>4</td>\n",
       "      <td>12.59</td>\n",
       "      <td>Tanga en tulle brodé</td>\n",
       "    </tr>\n",
       "  </tbody>\n",
       "</table>\n",
       "</div>"
      ],
      "text/plain": [
       "   Unnamed: 0  price                                  titles\n",
       "0           0  25.99     Soutien-gorge emboîtant en dentelle\n",
       "1           1  27.99  Soutien-gorge corbeille en tulle brodé\n",
       "2           2  11.99    Soutien-gorge bustier sans armatures\n",
       "3           3  11.99         Shorty taille haute en dentelle\n",
       "4           4  12.59                    Tanga en tulle brodé"
      ]
     },
     "execution_count": 1,
     "metadata": {},
     "output_type": "execute_result"
    }
   ],
   "source": [
    "import pandas as pd\n",
    "from mypkg.lib import clean_data\n",
    "\n",
    "df = pd.read_csv('data/mon_csv_lingerie.csv')\n",
    "df.head()"
   ]
  },
  {
   "cell_type": "code",
   "execution_count": 2,
   "metadata": {
    "collapsed": false,
    "deletable": true,
    "editable": true
   },
   "outputs": [
    {
     "name": "stdout",
     "output_type": "stream",
     "text": [
      "You can see here the dataframe header:\n",
      "    price                                  titles\n",
      "0  25.99     Soutien-gorge emboîtant en dentelle\n",
      "1  27.99  Soutien-gorge corbeille en tulle brodé\n",
      "2  11.99    Soutien-gorge bustier sans armatures\n",
      "3  11.99         Shorty taille haute en dentelle\n",
      "4  12.59                    Tanga en tulle brodé\n"
     ]
    },
    {
     "data": {
      "text/html": [
       "<div>\n",
       "<table border=\"1\" class=\"dataframe\">\n",
       "  <thead>\n",
       "    <tr style=\"text-align: right;\">\n",
       "      <th></th>\n",
       "      <th>price</th>\n",
       "      <th>titles</th>\n",
       "    </tr>\n",
       "  </thead>\n",
       "  <tbody>\n",
       "    <tr>\n",
       "      <th>0</th>\n",
       "      <td>25.99</td>\n",
       "      <td>Soutien-gorge emboîtant en dentelle</td>\n",
       "    </tr>\n",
       "    <tr>\n",
       "      <th>1</th>\n",
       "      <td>27.99</td>\n",
       "      <td>Soutien-gorge corbeille en tulle brodé</td>\n",
       "    </tr>\n",
       "    <tr>\n",
       "      <th>2</th>\n",
       "      <td>11.99</td>\n",
       "      <td>Soutien-gorge bustier sans armatures</td>\n",
       "    </tr>\n",
       "    <tr>\n",
       "      <th>3</th>\n",
       "      <td>11.99</td>\n",
       "      <td>Shorty taille haute en dentelle</td>\n",
       "    </tr>\n",
       "    <tr>\n",
       "      <th>4</th>\n",
       "      <td>12.59</td>\n",
       "      <td>Tanga en tulle brodé</td>\n",
       "    </tr>\n",
       "  </tbody>\n",
       "</table>\n",
       "</div>"
      ],
      "text/plain": [
       "   price                                  titles\n",
       "0  25.99     Soutien-gorge emboîtant en dentelle\n",
       "1  27.99  Soutien-gorge corbeille en tulle brodé\n",
       "2  11.99    Soutien-gorge bustier sans armatures\n",
       "3  11.99         Shorty taille haute en dentelle\n",
       "4  12.59                    Tanga en tulle brodé"
      ]
     },
     "execution_count": 2,
     "metadata": {},
     "output_type": "execute_result"
    }
   ],
   "source": [
    "df = clean_data(df) #clean unamed column generated when crawling\n",
    "df.head()"
   ]
  },
  {
   "cell_type": "code",
   "execution_count": 3,
   "metadata": {
    "collapsed": false,
    "deletable": true,
    "editable": true
   },
   "outputs": [
    {
     "name": "stdout",
     "output_type": "stream",
     "text": [
      "Help on function scalefunc in module mypkg.scale:\n",
      "\n",
      "scalefunc(mydf, oldcolumn, newcolumnName, tab, value)\n",
      "    You have to enter 5 parameters, \n",
      "    mydf: your dataframe\n",
      "    oldcolumn: the mydf.column_you_want_to_scale\n",
      "    newcolumn: string: colonne name\n",
      "    tab: value integer of your separations\n",
      "    value: value returned in the new column\n",
      "\n"
     ]
    }
   ],
   "source": [
    "from mypkg.scale import scalefunc\n",
    "\n",
    "help(scalefunc)"
   ]
  },
  {
   "cell_type": "code",
   "execution_count": 4,
   "metadata": {
    "collapsed": false,
    "deletable": true,
    "editable": true
   },
   "outputs": [
    {
     "name": "stdout",
     "output_type": "stream",
     "text": [
      "len(tab) != len(value) : Out of range\n"
     ]
    }
   ],
   "source": [
    "mytab = [0,5,10,15,20]\n",
    "myvalue = [\"Pas cher\", \"Pas trop cher\", \"Ca passe\", \"Cher\", \"Hyper cher\", \"test qui amène le bug\"] #Bug len\n",
    "new_df = scalefunc(df, df.price, \"scale\", mytab, myvalue)"
   ]
  },
  {
   "cell_type": "code",
   "execution_count": 5,
   "metadata": {
    "collapsed": false,
    "deletable": true,
    "editable": true
   },
   "outputs": [
    {
     "name": "stdout",
     "output_type": "stream",
     "text": [
      "tab != sorted(tab) : Table not sorted\n"
     ]
    }
   ],
   "source": [
    "mytab = [0,5,15,10,20] #Bug ordered\n",
    "myvalue = [\"Pas cher\", \"Pas trop cher\", \"Ca passe\", \"Cher\", \"Hyper cher\"]\n",
    "new_df = scalefunc(df, df.price, \"scale\", mytab, myvalue)"
   ]
  },
  {
   "cell_type": "code",
   "execution_count": 6,
   "metadata": {
    "collapsed": false,
    "deletable": true,
    "editable": true
   },
   "outputs": [
    {
     "data": {
      "text/html": [
       "<div>\n",
       "<table border=\"1\" class=\"dataframe\">\n",
       "  <thead>\n",
       "    <tr style=\"text-align: right;\">\n",
       "      <th></th>\n",
       "      <th>price</th>\n",
       "      <th>titles</th>\n",
       "      <th>scale</th>\n",
       "    </tr>\n",
       "  </thead>\n",
       "  <tbody>\n",
       "    <tr>\n",
       "      <th>0</th>\n",
       "      <td>25.99</td>\n",
       "      <td>Soutien-gorge emboîtant en dentelle</td>\n",
       "      <td>Hyper cher</td>\n",
       "    </tr>\n",
       "    <tr>\n",
       "      <th>1</th>\n",
       "      <td>27.99</td>\n",
       "      <td>Soutien-gorge corbeille en tulle brodé</td>\n",
       "      <td>Hyper cher</td>\n",
       "    </tr>\n",
       "    <tr>\n",
       "      <th>2</th>\n",
       "      <td>11.99</td>\n",
       "      <td>Soutien-gorge bustier sans armatures</td>\n",
       "      <td>Ca passe</td>\n",
       "    </tr>\n",
       "    <tr>\n",
       "      <th>3</th>\n",
       "      <td>11.99</td>\n",
       "      <td>Shorty taille haute en dentelle</td>\n",
       "      <td>Ca passe</td>\n",
       "    </tr>\n",
       "    <tr>\n",
       "      <th>4</th>\n",
       "      <td>12.59</td>\n",
       "      <td>Tanga en tulle brodé</td>\n",
       "      <td>Ca passe</td>\n",
       "    </tr>\n",
       "  </tbody>\n",
       "</table>\n",
       "</div>"
      ],
      "text/plain": [
       "   price                                  titles       scale\n",
       "0  25.99     Soutien-gorge emboîtant en dentelle  Hyper cher\n",
       "1  27.99  Soutien-gorge corbeille en tulle brodé  Hyper cher\n",
       "2  11.99    Soutien-gorge bustier sans armatures    Ca passe\n",
       "3  11.99         Shorty taille haute en dentelle    Ca passe\n",
       "4  12.59                    Tanga en tulle brodé    Ca passe"
      ]
     },
     "execution_count": 6,
     "metadata": {},
     "output_type": "execute_result"
    }
   ],
   "source": [
    "mytab = [0,5,10,15,20]\n",
    "myvalue = [\"Pas cher\", \"Pas trop cher\", \"Ca passe\", \"Cher\", \"Hyper cher\"]\n",
    "new_df = scalefunc(df, df.price, \"scale\", mytab, myvalue)\n",
    "\n",
    "new_df.head()"
   ]
  }
 ],
 "metadata": {
  "kernelspec": {
   "display_name": "Python3 Crawler",
   "language": "python",
   "name": "env3crawler"
  },
  "language_info": {
   "codemirror_mode": {
    "name": "ipython",
    "version": 3
   },
   "file_extension": ".py",
   "mimetype": "text/x-python",
   "name": "python",
   "nbconvert_exporter": "python",
   "pygments_lexer": "ipython3",
   "version": "3.5.2"
  }
 },
 "nbformat": 4,
 "nbformat_minor": 2
}
